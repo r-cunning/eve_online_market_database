{
 "cells": [
  {
   "cell_type": "code",
   "execution_count": 1,
   "metadata": {},
   "outputs": [],
   "source": [
    "import pandas as pd\n",
    "from pandas import json_normalize\n",
    "\n",
    "from sqlalchemy import create_engine\n",
    "import psycopg2\n",
    "from psycopg2 import sql\n",
    "\n",
    "import xlrd\n",
    "import config\n",
    "import populate_table as pop\n",
    "from datetime import datetime\n",
    "import os\n",
    "import bz2\n",
    "import json\n",
    "from create_table import create_table"
   ]
  },
  {
   "cell_type": "code",
   "execution_count": 2,
   "metadata": {},
   "outputs": [],
   "source": [
    "# Database credentials\n",
    "db_credentials = config.db_credentials"
   ]
  },
  {
   "cell_type": "code",
   "execution_count": 3,
   "metadata": {},
   "outputs": [
    {
     "name": "stdout",
     "output_type": "stream",
     "text": [
      "Connecting to database\n",
      "Connected to database\n"
     ]
    }
   ],
   "source": [
    "# create_table('faction_warfare_stats_history', db_credentials)"
   ]
  },
  {
   "cell_type": "code",
   "execution_count": 4,
   "metadata": {},
   "outputs": [
    {
     "ename": "FileNotFoundError",
     "evalue": "[WinError 3] The system cannot find the path specified: 'D:\\\\\\\\eve_database\\\\\\\\raw_data\\\\\\\\faction-warfare-stats\\\\\\\\'",
     "output_type": "error",
     "traceback": [
      "\u001b[1;31m---------------------------------------------------------------------------\u001b[0m",
      "\u001b[1;31mFileNotFoundError\u001b[0m                         Traceback (most recent call last)",
      "Cell \u001b[1;32mIn[4], line 5\u001b[0m\n\u001b[0;32m      1\u001b[0m base_path \u001b[38;5;241m=\u001b[39m \u001b[38;5;124mr\u001b[39m\u001b[38;5;124m'\u001b[39m\u001b[38;5;124mD:\u001b[39m\u001b[38;5;130;01m\\\\\u001b[39;00m\u001b[38;5;124meve_database\u001b[39m\u001b[38;5;130;01m\\\\\u001b[39;00m\u001b[38;5;124mraw_data\u001b[39m\u001b[38;5;130;01m\\\\\u001b[39;00m\u001b[38;5;124mfaction-warfare-stats\u001b[39m\u001b[38;5;130;01m\\\\\u001b[39;00m\u001b[38;5;124m'\u001b[39m  \u001b[38;5;66;03m# Update this to the path of your data folders\u001b[39;00m\n\u001b[1;32m----> 5\u001b[0m df \u001b[38;5;241m=\u001b[39m \u001b[43mpop\u001b[49m\u001b[38;5;241;43m.\u001b[39;49m\u001b[43mextract_and_load_json_to_dataframe\u001b[49m\u001b[43m(\u001b[49m\u001b[43mbase_path\u001b[49m\u001b[43m,\u001b[49m\u001b[43m \u001b[49m\u001b[43mdb_credentials\u001b[49m\u001b[43m)\u001b[49m\n",
      "File \u001b[1;32mc:\\Users\\raphc\\OneDrive\\Personal Projects\\EVE Online Quant\\EVE Markets\\EVE code\\timescale_market_history\\tables\\faction_warfare\\populate_table.py:15\u001b[0m, in \u001b[0;36mextract_and_load_json_to_dataframe\u001b[1;34m(base_path, db_credentials)\u001b[0m\n\u001b[0;32m     12\u001b[0m \u001b[38;5;28;01mdef\u001b[39;00m \u001b[38;5;21mextract_and_load_json_to_dataframe\u001b[39m(base_path, db_credentials):\n\u001b[0;32m     13\u001b[0m     \u001b[38;5;66;03m# Insert DataFrame into database table\u001b[39;00m\n\u001b[0;32m     14\u001b[0m     engine \u001b[38;5;241m=\u001b[39m create_engine(\u001b[38;5;124mf\u001b[39m\u001b[38;5;124m'\u001b[39m\u001b[38;5;124mpostgresql+psycopg2://\u001b[39m\u001b[38;5;132;01m{\u001b[39;00mdb_credentials[\u001b[38;5;124m\"\u001b[39m\u001b[38;5;124muser\u001b[39m\u001b[38;5;124m\"\u001b[39m]\u001b[38;5;132;01m}\u001b[39;00m\u001b[38;5;124m:\u001b[39m\u001b[38;5;132;01m{\u001b[39;00mdb_credentials[\u001b[38;5;124m\"\u001b[39m\u001b[38;5;124mpassword\u001b[39m\u001b[38;5;124m\"\u001b[39m]\u001b[38;5;132;01m}\u001b[39;00m\u001b[38;5;124m@\u001b[39m\u001b[38;5;132;01m{\u001b[39;00mdb_credentials[\u001b[38;5;124m\"\u001b[39m\u001b[38;5;124mhost\u001b[39m\u001b[38;5;124m\"\u001b[39m]\u001b[38;5;132;01m}\u001b[39;00m\u001b[38;5;124m:\u001b[39m\u001b[38;5;132;01m{\u001b[39;00mdb_credentials[\u001b[38;5;124m\"\u001b[39m\u001b[38;5;124mport\u001b[39m\u001b[38;5;124m\"\u001b[39m]\u001b[38;5;132;01m}\u001b[39;00m\u001b[38;5;124m/\u001b[39m\u001b[38;5;132;01m{\u001b[39;00mdb_credentials[\u001b[38;5;124m\"\u001b[39m\u001b[38;5;124mdbname\u001b[39m\u001b[38;5;124m\"\u001b[39m]\u001b[38;5;132;01m}\u001b[39;00m\u001b[38;5;124m'\u001b[39m)\n\u001b[1;32m---> 15\u001b[0m     \u001b[38;5;28;01mfor\u001b[39;00m year_folder \u001b[38;5;129;01min\u001b[39;00m \u001b[43mos\u001b[49m\u001b[38;5;241;43m.\u001b[39;49m\u001b[43mlistdir\u001b[49m\u001b[43m(\u001b[49m\u001b[43mbase_path\u001b[49m\u001b[43m)\u001b[49m:  \u001b[38;5;66;03m# Loop through each year\u001b[39;00m\n\u001b[0;32m     16\u001b[0m         year_data \u001b[38;5;241m=\u001b[39m []\n\u001b[0;32m     17\u001b[0m         year_path \u001b[38;5;241m=\u001b[39m os\u001b[38;5;241m.\u001b[39mpath\u001b[38;5;241m.\u001b[39mjoin(base_path, year_folder)\n",
      "\u001b[1;31mFileNotFoundError\u001b[0m: [WinError 3] The system cannot find the path specified: 'D:\\\\\\\\eve_database\\\\\\\\raw_data\\\\\\\\faction-warfare-stats\\\\\\\\'"
     ]
    }
   ],
   "source": [
    "base_path = 'D:/eve_database/raw_data/faction-warfare-stats/'  # Update this to the path of your data folders\n",
    "\n",
    "\n",
    "\n",
    "df = pop.process_json_populate_FW(base_path, db_credentials)"
   ]
  },
  {
   "cell_type": "code",
   "execution_count": 46,
   "metadata": {},
   "outputs": [
    {
     "name": "stdout",
     "output_type": "stream",
     "text": [
      "   faction_id  pilots  systems_controlled  kills.last_week  kills.total  \\\n",
      "0      500001   50868                  58             2271       947123   \n",
      "1      500002   32015                  38             2488       766125   \n",
      "2      500003   29173                  32             1939       806157   \n",
      "3      500004   42923                  32             3308      1127373   \n",
      "4      500001   50845                  58             2166       947361   \n",
      "\n",
      "   kills.yesterday  victory_points.last_week  victory_points.total  \\\n",
      "0              301                    707663              83540357   \n",
      "1              155                    584271              52833706   \n",
      "2              129                    685060              52862703   \n",
      "3              349                    787961              82145721   \n",
      "4              238                    697840              83631648   \n",
      "\n",
      "   victory_points.yesterday        date  \n",
      "0                     99356  2022-12-16  \n",
      "1                     90430  2022-12-16  \n",
      "2                     65548  2022-12-16  \n",
      "3                    103247  2022-12-16  \n",
      "4                     91291  2022-12-17  \n"
     ]
    }
   ],
   "source": [
    "print(df.head())"
   ]
  }
 ],
 "metadata": {
  "kernelspec": {
   "display_name": "eve_trading",
   "language": "python",
   "name": "python3"
  },
  "language_info": {
   "codemirror_mode": {
    "name": "ipython",
    "version": 3
   },
   "file_extension": ".py",
   "mimetype": "text/x-python",
   "name": "python",
   "nbconvert_exporter": "python",
   "pygments_lexer": "ipython3",
   "version": "3.9.18"
  }
 },
 "nbformat": 4,
 "nbformat_minor": 2
}
