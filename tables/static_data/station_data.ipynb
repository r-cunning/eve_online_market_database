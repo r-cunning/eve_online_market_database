{
 "cells": [
  {
   "cell_type": "code",
   "execution_count": 1,
   "metadata": {},
   "outputs": [],
   "source": [
    "import pandas as pd\n",
    "import psycopg2\n",
    "from psycopg2 import sql\n",
    "import xlrd\n",
    "import config"
   ]
  },
  {
   "cell_type": "code",
   "execution_count": 2,
   "metadata": {},
   "outputs": [],
   "source": [
    "dbname = config.dbname\n",
    "user = config.user\n",
    "password = config.password\n",
    "host = config.host\n",
    "port = config.port"
   ]
  },
  {
   "cell_type": "code",
   "execution_count": 3,
   "metadata": {},
   "outputs": [],
   "source": [
    "data_file_path = 'data/static_data/station_data.csv'\n",
    "df = pd.read_csv(data_file_path)"
   ]
  },
  {
   "cell_type": "code",
   "execution_count": 4,
   "metadata": {},
   "outputs": [],
   "source": [
    "def create_table(dbname, user, password, host, port, table_name):\n",
    "    # Connect to the PostgreSQL database\n",
    "    conn = psycopg2.connect(dbname=dbname, user=user, password=password, host=host, port=port)\n",
    "    cur = conn.cursor()\n",
    "    print(\"Check 2\")\n",
    "    # Create table if it doesn't exist\n",
    "    cur.execute(sql.SQL(\"\"\"\n",
    "        CREATE TABLE IF NOT EXISTS {}\n",
    "        (\n",
    "            \n",
    "            station_id INTEGER PRIMARY KEY NOT NULL,\n",
    "            security INTEGER NOT NULL,\n",
    "            operation_id INTEGER NOT NULL,\n",
    "            stationType_id INTEGER NOT NULL,\n",
    "            corporation_id INTEGER NOT NULL,\n",
    "            solarSystem_id INTEGER NOT NULL,\n",
    "            constellation_id INTEGER NOT NULL,\n",
    "            region_id INTEGER NOT NULL,\n",
    "            station_name VARCHAR(100) NOT NULL\n",
    "\n",
    "        );\n",
    "    \"\"\").format(sql.Identifier(table_name)))\n",
    "    # Commit changes and close connection\n",
    "    conn.commit()\n",
    "    cur.close()\n",
    "    conn.close()"
   ]
  },
  {
   "cell_type": "code",
   "execution_count": 5,
   "metadata": {},
   "outputs": [
    {
     "name": "stdout",
     "output_type": "stream",
     "text": [
      "Check 2\n"
     ]
    }
   ],
   "source": [
    "rows = create_table(dbname, user, password, host, port, 'exchanges')"
   ]
  },
  {
   "cell_type": "code",
   "execution_count": 6,
   "metadata": {},
   "outputs": [],
   "source": [
    "def add_timepoint(dbname, user, password, host, port, data, table_name):\n",
    "    # Connect to the PostgreSQL database\n",
    "    conn = psycopg2.connect(dbname=dbname, user=user, password=password, host=host, port=port)\n",
    "    cur = conn.cursor()\n",
    "    # Insert data\n",
    "    print(data.head())\n",
    "    for _, row in data.iterrows():\n",
    "        cur.execute(sql.SQL(\"\"\"\n",
    "            INSERT INTO {} (station_id, security, operation_id, stationType_id, corporation_id, solarSystem_id, constellation_id, region_id, station_name) \n",
    "            VALUES (%s, %s, %s, %s, %s, %s, %s, %s, %s);\n",
    "        \"\"\").format(sql.Identifier(table_name)), \n",
    "            (row['stationID'], row['security'], row['operationID'], row['stationTypeID'], row['corporationID']\n",
    "             , row['solarSystemID'], row['constellationID'], row['regionID'], row['stationName']))\n",
    "    # Commit changes and close connection\n",
    "    conn.commit()\n",
    "    cur.close()\n",
    "    conn.close()"
   ]
  },
  {
   "cell_type": "code",
   "execution_count": 7,
   "metadata": {},
   "outputs": [
    {
     "name": "stdout",
     "output_type": "stream",
     "text": [
      "   stationID  security  operationID  stationTypeID  corporationID  \\\n",
      "0   60000004  0.708087           26           1531        1000002   \n",
      "1   60000007  0.794424           26           1531        1000002   \n",
      "2   60000010  0.807470           26           1531        1000002   \n",
      "3   60000013  0.794424           26           1531        1000002   \n",
      "4   60000016  0.830855           26           1531        1000002   \n",
      "\n",
      "   solarSystemID  constellationID  regionID  \\\n",
      "0       30002780         20000407  10000033   \n",
      "1       30002779         20000407  10000033   \n",
      "2       30002776         20000407  10000033   \n",
      "3       30002779         20000407  10000033   \n",
      "4       30002778         20000407  10000033   \n",
      "\n",
      "                                         stationName  \n",
      "0    Muvolailen X - Moon 3 - CBD Corporation Storage  \n",
      "1           Ono V - Moon 9 - CBD Corporation Storage  \n",
      "2                 Annaro I - CBD Corporation Storage  \n",
      "3           Ono V - Moon 2 - CBD Corporation Storage  \n",
      "4  Tasabeshi VIII - Moon 13 - CBD Corporation Sto...  \n"
     ]
    }
   ],
   "source": [
    "add_timepoint(dbname, user, password, host, port, df, 'exchanges')\n"
   ]
  }
 ],
 "metadata": {
  "kernelspec": {
   "display_name": "eve_trading",
   "language": "python",
   "name": "python3"
  },
  "language_info": {
   "codemirror_mode": {
    "name": "ipython",
    "version": 3
   },
   "file_extension": ".py",
   "mimetype": "text/x-python",
   "name": "python",
   "nbconvert_exporter": "python",
   "pygments_lexer": "ipython3",
   "version": "3.9.18"
  }
 },
 "nbformat": 4,
 "nbformat_minor": 2
}
