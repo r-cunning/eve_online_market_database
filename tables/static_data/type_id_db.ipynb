{
 "cells": [
  {
   "cell_type": "code",
   "execution_count": 1,
   "metadata": {},
   "outputs": [],
   "source": [
    "import pandas as pd\n",
    "import psycopg2\n",
    "from psycopg2 import sql\n",
    "import xlrd\n",
    "import config"
   ]
  },
  {
   "cell_type": "code",
   "execution_count": 2,
   "metadata": {},
   "outputs": [],
   "source": [
    "# Database connection parameters - replace with your actual parameters\n",
    "dbname = config.dbname\n",
    "user = config.user\n",
    "password = config.password\n",
    "host = config.host\n",
    "port = config.port"
   ]
  },
  {
   "cell_type": "code",
   "execution_count": 3,
   "metadata": {},
   "outputs": [],
   "source": [
    "# Load your data from the .xls file (replace with the correct path)\n",
    "xls_file_path = 'data/static_data/type_ids.xlsx'\n",
    "df = pd.read_excel(xls_file_path)\n",
    "df = df.fillna(0)\n"
   ]
  },
  {
   "cell_type": "code",
   "execution_count": null,
   "metadata": {},
   "outputs": [],
   "source": []
  },
  {
   "cell_type": "code",
   "execution_count": 4,
   "metadata": {},
   "outputs": [
    {
     "name": "stdout",
     "output_type": "stream",
     "text": [
      "   TYPEID  GROUPID       TYPENAME  MARKETGROUPID\n",
      "0       0        0        #System            0.0\n",
      "1       2        2    Corporation            0.0\n",
      "2       3        3         Region            0.0\n",
      "3       4        4  Constellation            0.0\n",
      "4       5        5   Solar System            0.0\n"
     ]
    }
   ],
   "source": [
    "print(df.head())"
   ]
  },
  {
   "cell_type": "code",
   "execution_count": 7,
   "metadata": {},
   "outputs": [],
   "source": [
    "df = df[df['MARKETGROUPID'] != 0]"
   ]
  },
  {
   "cell_type": "code",
   "execution_count": 8,
   "metadata": {},
   "outputs": [
    {
     "name": "stdout",
     "output_type": "stream",
     "text": [
      "    TYPEID  GROUPID     TYPENAME  MARKETGROUPID\n",
      "17      18      458  Plagioclase          516.0\n",
      "18      19      461    Spodumain          517.0\n",
      "19      20      457      Kernite          523.0\n",
      "20      21      454   Hedbergite          527.0\n",
      "21      22      450      Arkonor          512.0\n"
     ]
    }
   ],
   "source": [
    "print(df.head())"
   ]
  },
  {
   "cell_type": "code",
   "execution_count": 9,
   "metadata": {},
   "outputs": [],
   "source": [
    "def create_table(dbname, user, password, host, port, table_name):\n",
    "    # Connect to the PostgreSQL database\n",
    "    conn = psycopg2.connect(dbname=dbname, user=user, password=password, host=host, port=port)\n",
    "    cur = conn.cursor()\n",
    "    print(\"Check 2\")\n",
    "    # Create table if it doesn't exist\n",
    "    cur.execute(sql.SQL(\"\"\"\n",
    "        CREATE TABLE IF NOT EXISTS {}\n",
    "        (\n",
    "            type_id INTEGER PRIMARY KEY,\n",
    "            group_id INTEGER NOT NULL,\n",
    "            type_name VARCHAR(100) NOT NULL,\n",
    "            market_group_id INTEGER NOT NULL\n",
    "        );\n",
    "    \"\"\").format(sql.Identifier(table_name)))\n",
    "    # Commit changes and close connection\n",
    "    conn.commit()\n",
    "    cur.close()\n",
    "    conn.close()\n",
    "    "
   ]
  },
  {
   "cell_type": "code",
   "execution_count": 10,
   "metadata": {},
   "outputs": [
    {
     "name": "stdout",
     "output_type": "stream",
     "text": [
      "Check 2\n"
     ]
    }
   ],
   "source": [
    "create_table(dbname, user, password, host, port, 'commodities')"
   ]
  },
  {
   "cell_type": "code",
   "execution_count": 11,
   "metadata": {},
   "outputs": [],
   "source": [
    "def add_timepoint(dbname, user, password, host, port, data, table_name):\n",
    "    # Connect to the PostgreSQL database\n",
    "    conn = psycopg2.connect(dbname=dbname, user=user, password=password, host=host, port=port)\n",
    "    cur = conn.cursor()\n",
    "    # Insert data\n",
    "    print(data.head())\n",
    "    for _, row in data.iterrows():\n",
    "        cur.execute(sql.SQL(\"\"\"\n",
    "            INSERT INTO {} (type_id, group_id, type_name, market_group_id)\n",
    "            VALUES (%s, %s, %s, %s);\n",
    "        \"\"\").format(sql.Identifier(table_name)), \n",
    "            (row['TYPEID'], row['GROUPID'], row['TYPENAME'], row['MARKETGROUPID']))\n",
    "    # Commit changes and close connection\n",
    "    conn.commit()\n",
    "    cur.close()\n",
    "    conn.close()"
   ]
  },
  {
   "cell_type": "code",
   "execution_count": 12,
   "metadata": {},
   "outputs": [
    {
     "name": "stdout",
     "output_type": "stream",
     "text": [
      "    TYPEID  GROUPID     TYPENAME  MARKETGROUPID\n",
      "17      18      458  Plagioclase          516.0\n",
      "18      19      461    Spodumain          517.0\n",
      "19      20      457      Kernite          523.0\n",
      "20      21      454   Hedbergite          527.0\n",
      "21      22      450      Arkonor          512.0\n"
     ]
    }
   ],
   "source": [
    "add_timepoint(dbname, user, password, host, port, df, 'commodities')\n"
   ]
  }
 ],
 "metadata": {
  "kernelspec": {
   "display_name": "eve_trading",
   "language": "python",
   "name": "python3"
  },
  "language_info": {
   "codemirror_mode": {
    "name": "ipython",
    "version": 3
   },
   "file_extension": ".py",
   "mimetype": "text/x-python",
   "name": "python",
   "nbconvert_exporter": "python",
   "pygments_lexer": "ipython3",
   "version": "3.9.18"
  }
 },
 "nbformat": 4,
 "nbformat_minor": 2
}
