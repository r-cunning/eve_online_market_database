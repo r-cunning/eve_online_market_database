{
 "cells": [
  {
   "cell_type": "code",
   "execution_count": 1,
   "metadata": {},
   "outputs": [],
   "source": [
    "import pandas as pd\n",
    "import psycopg2\n",
    "from psycopg2 import sql\n",
    "import xlrd\n",
    "import config"
   ]
  },
  {
   "cell_type": "code",
   "execution_count": 2,
   "metadata": {},
   "outputs": [],
   "source": [
    "dbname = config.dbname\n",
    "user = config.user\n",
    "password = config.password\n",
    "host = config.host\n",
    "port = config.port"
   ]
  },
  {
   "cell_type": "code",
   "execution_count": 3,
   "metadata": {},
   "outputs": [],
   "source": [
    "data_file_path = r'D:\\EVE_DB_BACKUP\\raw_data\\reference_data\\mapRegions.csv'\n",
    "df = pd.read_csv(data_file_path)\n",
    "df['factionID'] = df['factionID'].fillna(0).astype(int)"
   ]
  },
  {
   "cell_type": "code",
   "execution_count": 5,
   "metadata": {},
   "outputs": [
    {
     "name": "stdout",
     "output_type": "stream",
     "text": [
      "     regionID          regionName  factionID  nebula\n",
      "0    10000001             Derelik     500007   11799\n",
      "1    10000002           The Forge     500001   11806\n",
      "2    10000003  Vale of the Silent          0   11814\n",
      "3    10000004              UUA-F4          0   11817\n",
      "4    10000005             Detorid          0   11849\n",
      "..        ...                 ...        ...     ...\n",
      "108  14000001               VR-01          0   11821\n",
      "109  14000002               VR-02          0   11821\n",
      "110  14000003               VR-03          0   11821\n",
      "111  14000004               VR-04          0   11821\n",
      "112  14000005               VR-05          0   11821\n",
      "\n",
      "[113 rows x 4 columns]\n"
     ]
    }
   ],
   "source": [
    "print(df)"
   ]
  },
  {
   "cell_type": "code",
   "execution_count": 6,
   "metadata": {},
   "outputs": [],
   "source": [
    "def create_table(dbname, user, password, host, port, table_name):\n",
    "    # Connect to the PostgreSQL database\n",
    "    conn = psycopg2.connect(dbname=dbname, user=user, password=password, host=host, port=port)\n",
    "    cur = conn.cursor()\n",
    "    print(\"Check 2\")\n",
    "    # Create table if it doesn't exist\n",
    "    cur.execute(sql.SQL(\"\"\"\n",
    "        CREATE TABLE IF NOT EXISTS {}\n",
    "        (\n",
    "            \n",
    "            region_id INTEGER PRIMARY KEY NOT NULL,\n",
    "            region_name VARCHAR(100) NOT NULL,\n",
    "            faction_id INTEGER,\n",
    "            nebula INTEGER\n",
    "\n",
    "        );\n",
    "    \"\"\").format(sql.Identifier(table_name)))\n",
    "    # Commit changes and close connection\n",
    "    conn.commit()\n",
    "    cur.close()\n",
    "    conn.close()"
   ]
  },
  {
   "cell_type": "code",
   "execution_count": 7,
   "metadata": {},
   "outputs": [
    {
     "name": "stdout",
     "output_type": "stream",
     "text": [
      "Check 2\n"
     ]
    }
   ],
   "source": [
    "create_table(dbname, user, password, host, port, 'map_regions')"
   ]
  },
  {
   "cell_type": "code",
   "execution_count": 8,
   "metadata": {},
   "outputs": [],
   "source": [
    "def add_timepoint(dbname, user, password, host, port, data, table_name):\n",
    "    # Connect to the PostgreSQL database\n",
    "    conn = psycopg2.connect(dbname=dbname, user=user, password=password, host=host, port=port)\n",
    "    cur = conn.cursor()\n",
    "    # Insert data\n",
    "    print(data.head())\n",
    "    for _, row in data.iterrows():\n",
    "        cur.execute(sql.SQL(\"\"\"\n",
    "            INSERT INTO {} (region_id, region_name, faction_id, nebula) \n",
    "            VALUES (%s, %s, %s, %s);\n",
    "        \"\"\").format(sql.Identifier(table_name)), \n",
    "            (row['regionID'], row['regionName'], row['factionID'], row['nebula']))\n",
    "    # Commit changes and close connection\n",
    "    conn.commit()\n",
    "    cur.close()\n",
    "    conn.close()"
   ]
  },
  {
   "cell_type": "code",
   "execution_count": 12,
   "metadata": {},
   "outputs": [
    {
     "name": "stdout",
     "output_type": "stream",
     "text": [
      "   regionID          regionName  factionID  nebula\n",
      "0  10000001             Derelik     500007   11799\n",
      "1  10000002           The Forge     500001   11806\n",
      "2  10000003  Vale of the Silent          0   11814\n",
      "3  10000004              UUA-F4          0   11817\n",
      "4  10000005             Detorid          0   11849\n"
     ]
    }
   ],
   "source": [
    "add_timepoint(dbname, user, password, host, port, df, 'map_regions')\n"
   ]
  },
  {
   "cell_type": "code",
   "execution_count": 33,
   "metadata": {},
   "outputs": [
    {
     "name": "stdout",
     "output_type": "stream",
     "text": [
      "<class 'int'>\n"
     ]
    }
   ],
   "source": [
    "print(type(data))"
   ]
  },
  {
   "cell_type": "code",
   "execution_count": 37,
   "metadata": {},
   "outputs": [
    {
     "name": "stdout",
     "output_type": "stream",
     "text": [
      "(12000, datetime.date(2023, 1, 1), 12000, 12000, 5, 1448, 10000002, 19)\n"
     ]
    }
   ],
   "source": [
    "print(data[1])"
   ]
  },
  {
   "cell_type": "code",
   "execution_count": null,
   "metadata": {},
   "outputs": [],
   "source": []
  }
 ],
 "metadata": {
  "kernelspec": {
   "display_name": "eve_trading",
   "language": "python",
   "name": "python3"
  },
  "language_info": {
   "codemirror_mode": {
    "name": "ipython",
    "version": 3
   },
   "file_extension": ".py",
   "mimetype": "text/x-python",
   "name": "python",
   "nbconvert_exporter": "python",
   "pygments_lexer": "ipython3",
   "version": "3.9.18"
  }
 },
 "nbformat": 4,
 "nbformat_minor": 2
}
