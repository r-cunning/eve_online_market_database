{
 "cells": [
  {
   "cell_type": "code",
   "execution_count": 1,
   "metadata": {},
   "outputs": [],
   "source": [
    "import pandas as pd\n",
    "import psycopg2\n",
    "from psycopg2 import sql\n",
    "import config\n",
    "import os\n",
    "import glob\n",
    "from sqlalchemy import create_engine\n",
    "import sqlalchemy"
   ]
  },
  {
   "cell_type": "code",
   "execution_count": 2,
   "metadata": {},
   "outputs": [],
   "source": [
    "dbname = config.dbname\n",
    "user = config.user\n",
    "password = config.password\n",
    "host = config.host\n",
    "port = config.port\n",
    "\n",
    "\n",
    "# Database credentials\n",
    "db_credentials = {\n",
    "    'dbname': config.dbname,\n",
    "    'user': config.user,\n",
    "    'password': config.password,\n",
    "    'host': config.host,\n",
    "    'port': config.port\n",
    "}"
   ]
  },
  {
   "cell_type": "code",
   "execution_count": 18,
   "metadata": {},
   "outputs": [],
   "source": [
    "directory =r\"D:/eve_database/player_count/daily_player_count.csv\""
   ]
  },
  {
   "cell_type": "code",
   "execution_count": 10,
   "metadata": {},
   "outputs": [],
   "source": [
    "# Function to create table and insert data\n",
    "def create_table(dbname, user, password, host, port, table_name):\n",
    "    # Connect to the PostgreSQL database\n",
    "    conn = psycopg2.connect(dbname=dbname, user=user, password=password, host=host, port=port)\n",
    "    cur = conn.cursor()\n",
    "    print(\"Check 2\")\n",
    "    # Create table if it doesn't exist\n",
    "    cur.execute(sql.SQL(\"\"\"\n",
    "        CREATE TABLE IF NOT EXISTS {}\n",
    "        (\n",
    "            date DATE NOT NULL,\n",
    "            player_count INT NOT NULL\n",
    "        );\n",
    "        SELECT create_hypertable('player_count', 'date');\n",
    "    \"\"\").format(sql.Identifier(table_name)))\n",
    "    # Commit changes and close connection\n",
    "    conn.commit()\n",
    "    cur.close()\n",
    "    conn.close()"
   ]
  },
  {
   "cell_type": "code",
   "execution_count": 11,
   "metadata": {},
   "outputs": [
    {
     "name": "stdout",
     "output_type": "stream",
     "text": [
      "Check 2\n"
     ]
    }
   ],
   "source": [
    "create_table(dbname, user, password, host, port, \"player_count\")"
   ]
  },
  {
   "cell_type": "code",
   "execution_count": 26,
   "metadata": {},
   "outputs": [
    {
     "name": "stdout",
     "output_type": "stream",
     "text": [
      "Loading D:/eve_database/player_count/daily_player_count.csv into database...\n"
     ]
    }
   ],
   "source": [
    "import os\n",
    "import pandas as pd\n",
    "from sqlalchemy import create_engine\n",
    "\n",
    "def load_csv_to_timescaledb(table_name, csv_folder_path, db_credentials):\n",
    "    # Create a connection to the PostgreSQL database\n",
    "    engine = create_engine(f'postgresql+psycopg2://{db_credentials[\"user\"]}:{db_credentials[\"password\"]}@{db_credentials[\"host\"]}:{db_credentials[\"port\"]}/{db_credentials[\"dbname\"]}')\n",
    "\n",
    "    file_path = os.path.join(csv_folder_path)\n",
    "    print(f\"Loading {file_path} into database...\")\n",
    "\n",
    "    # Read CSV file into DataFrame\n",
    "    df = pd.read_csv(file_path)\n",
    "\n",
    "    # Insert DataFrame into database table\n",
    "    df.to_sql(table_name, engine, if_exists='append', index=False, method='multi')\n",
    "\n",
    "    # Close the database connection\n",
    "    engine.dispose()\n",
    "\n",
    "\n",
    "\n",
    "# Run the function\n",
    "load_csv_to_timescaledb(\"player_count\", directory, db_credentials)\n"
   ]
  }
 ],
 "metadata": {
  "kernelspec": {
   "display_name": "eve_trading",
   "language": "python",
   "name": "python3"
  },
  "language_info": {
   "codemirror_mode": {
    "name": "ipython",
    "version": 3
   },
   "file_extension": ".py",
   "mimetype": "text/x-python",
   "name": "python",
   "nbconvert_exporter": "python",
   "pygments_lexer": "ipython3",
   "version": "3.9.18"
  }
 },
 "nbformat": 4,
 "nbformat_minor": 2
}
