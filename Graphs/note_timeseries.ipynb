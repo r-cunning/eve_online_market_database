{
 "cells": [
  {
   "cell_type": "code",
   "execution_count": 5,
   "metadata": {},
   "outputs": [],
   "source": [
    "import pandas as pd\n",
    "import psycopg2\n",
    "from psycopg2 import sql\n",
    "import xlrd\n",
    "import config\n",
    "from tables.static_data import query\n",
    "from tables.market_history import query as market_history_query\n",
    "from psycopg2 import sql\n",
    "import config\n",
    "import os\n",
    "import networkx as nx"
   ]
  },
  {
   "cell_type": "code",
   "execution_count": 3,
   "metadata": {},
   "outputs": [],
   "source": [
    "start_date = \"2020-01-01\"\n",
    "end_date = \"2023-12-31\""
   ]
  },
  {
   "cell_type": "code",
   "execution_count": 5,
   "metadata": {},
   "outputs": [
    {
     "name": "stdout",
     "output_type": "stream",
     "text": [
      "TheForge {'region_ID': 10000002}\n",
      "SinqLaison {'region_ID': 10000032}\n",
      "Domain {'region_ID': 10000043}\n",
      "Genesis {'region_ID': 10000067}\n",
      "Aridia {'region_ID': 10000054}\n",
      "Fountain {'region_ID': 10000058}\n",
      "Metropolis {'region_ID': 10000042}\n",
      "Heimatar {'region_ID': 10000030}\n",
      "Lonetrek {'region_ID': 10000016}\n",
      "Tash-Murkon {'region_ID': 10000020}\n",
      "Kor-Azor {'region_ID': 10000065}\n",
      "Devoid {'region_ID': 10000036}\n",
      "TheCitadel {'region_ID': 10000033}\n",
      "CloudRing {'region_ID': 10000051}\n",
      "PureBlind {'region_ID': 10000023}\n",
      "Khanid {'region_ID': 10000049}\n",
      "Kador {'region_ID': 10000052}\n"
     ]
    }
   ],
   "source": [
    "\n",
    "# Load the GraphML file\n",
    "G = nx.read_graphml(\"region_hubs_graph.graphml\")\n",
    "for node in G.nodes:\n",
    "    print(node, G.nodes[node])\n",
    "# print(\"Loaded node attributes for 'TheForge':\", G.nodes['TheForge'])"
   ]
  },
  {
   "cell_type": "code",
   "execution_count": 6,
   "metadata": {},
   "outputs": [
    {
     "name": "stdout",
     "output_type": "stream",
     "text": [
      "     region_id         region_name  faction_id  nebula\n",
      "0     10000001             Derelik      500007   11799\n",
      "1     10000002           The Forge      500001   11806\n",
      "2     10000003  Vale of the Silent           0   11814\n",
      "3     10000004              UUA-F4           0   11817\n",
      "4     10000005             Detorid           0   11849\n",
      "..         ...                 ...         ...     ...\n",
      "108   14000001               VR-01           0   11821\n",
      "109   14000002               VR-02           0   11821\n",
      "110   14000003               VR-03           0   11821\n",
      "111   14000004               VR-04           0   11821\n",
      "112   14000005               VR-05           0   11821\n",
      "\n",
      "[113 rows x 4 columns]\n"
     ]
    }
   ],
   "source": [
    "region_ids = query.get_static_data(config=config, table_name=\"map_regions\")\n",
    "print(region_ids)"
   ]
  },
  {
   "cell_type": "code",
   "execution_count": 7,
   "metadata": {},
   "outputs": [],
   "source": [
    "from tables.faction_warfare_stats_history import query as fw_stats_query\n",
    "FW_stats= fw_stats_query.get_FW_history(config=config, table_name='faction_warfare_stats_history',start_date=start_date, end_date=end_date)"
   ]
  },
  {
   "cell_type": "markdown",
   "metadata": {},
   "source": [
    "### Market History"
   ]
  },
  {
   "cell_type": "code",
   "execution_count": 15,
   "metadata": {},
   "outputs": [],
   "source": [
    "type_id = 262"
   ]
  },
  {
   "cell_type": "markdown",
   "metadata": {},
   "source": [
    "Graphs to include:\n",
    "- Metropolis\n",
    "- TheForge\n",
    "- Tash-Murkon\n",
    "- SinqLaison\n",
    "- Lonetrek\n",
    "- Heimatar\n",
    "- Domain\n"
   ]
  },
  {
   "cell_type": "code",
   "execution_count": 27,
   "metadata": {},
   "outputs": [],
   "source": [
    "graph = nx.read_graphml('galaxy_region_graph_coords_subset_typeid_262.graphml')"
   ]
  },
  {
   "cell_type": "code",
   "execution_count": 7,
   "metadata": {},
   "outputs": [
    {
     "name": "stdout",
     "output_type": "stream",
     "text": [
      "Metropolis {'region_ID': 10000042, 'X_coordinate': -7.426705555731202e+16, 'Y_coordinate': 3.5798638720555244e+16, 'Z_coordinate': 4.5153300095399016e+16}\n",
      "Tash-Murkon {'region_ID': 10000020, 'X_coordinate': -2.1175337186387933e+17, 'Y_coordinate': 6.283870597106798e+16, 'Z_coordinate': -1.2393481453766448e+17}\n",
      "TheForge {'region_ID': 10000002, 'X_coordinate': -9.642032966461757e+16, 'Y_coordinate': 6.40270758377404e+16, 'Z_coordinate': 1.125398171329042e+17}\n",
      "Heimatar {'region_ID': 10000030, 'X_coordinate': -9.292928549160074e+16, 'Y_coordinate': 3.2124391627089524e+16, 'Z_coordinate': 2.414872139936921e+16}\n",
      "Lonetrek {'region_ID': 10000016, 'X_coordinate': -1.8917122217723917e+17, 'Y_coordinate': 9.455246335094957e+16, 'Z_coordinate': 1.5569612898227043e+17}\n",
      "SinqLaison {'region_ID': 10000032, 'X_coordinate': -1.819128830764801e+17, 'Y_coordinate': 4.16995387869047e+16, 'Z_coordinate': 3.978073867707421e+16}\n",
      "Domain {'region_ID': 10000043, 'X_coordinate': -2.0043783372615328e+17, 'Y_coordinate': 5.356170093220677e+16, 'Z_coordinate': -8.135523908563338e+16}\n"
     ]
    }
   ],
   "source": [
    "# for node in graph.nodes:\n",
    "# add matching region timeseries to each node"
   ]
  },
  {
   "cell_type": "code",
   "execution_count": 14,
   "metadata": {},
   "outputs": [
    {
     "name": "stdout",
     "output_type": "stream",
     "text": [
      "Node Metropolis has region_ID: 10000042.\n",
      "Data for Metropolis does not exist, fetching data from DB...\n"
     ]
    },
    {
     "ename": "NameError",
     "evalue": "name 'type_id' is not defined",
     "output_type": "error",
     "traceback": [
      "\u001b[1;31m---------------------------------------------------------------------------\u001b[0m",
      "\u001b[1;31mNameError\u001b[0m                                 Traceback (most recent call last)",
      "Cell \u001b[1;32mIn[14], line 10\u001b[0m\n\u001b[0;32m      7\u001b[0m \u001b[38;5;28;01melse\u001b[39;00m:\n\u001b[0;32m      9\u001b[0m     \u001b[38;5;28mprint\u001b[39m(\u001b[38;5;124mf\u001b[39m\u001b[38;5;124m'\u001b[39m\u001b[38;5;124mData for \u001b[39m\u001b[38;5;132;01m{\u001b[39;00mnode\u001b[38;5;132;01m}\u001b[39;00m\u001b[38;5;124m does not exist, fetching data from DB...\u001b[39m\u001b[38;5;124m'\u001b[39m)\n\u001b[1;32m---> 10\u001b[0m     price_data \u001b[38;5;241m=\u001b[39m market_history_query\u001b[38;5;241m.\u001b[39mget_market_history(type_id\u001b[38;5;241m=\u001b[39m\u001b[43mtype_id\u001b[49m, table_name\u001b[38;5;241m=\u001b[39m\u001b[38;5;124m'\u001b[39m\u001b[38;5;124mmarket_history\u001b[39m\u001b[38;5;124m'\u001b[39m, region_id\u001b[38;5;241m=\u001b[39mregion_id, start_date\u001b[38;5;241m=\u001b[39mstart_date, end_date\u001b[38;5;241m=\u001b[39mend_date, config\u001b[38;5;241m=\u001b[39mconfig)\n\u001b[0;32m     12\u001b[0m     price_data\u001b[38;5;241m.\u001b[39mto_csv(\u001b[38;5;124mf\u001b[39m\u001b[38;5;124m\"\u001b[39m\u001b[38;5;124mGraphs/datasets/price_data_\u001b[39m\u001b[38;5;132;01m{\u001b[39;00mnode\u001b[38;5;132;01m}\u001b[39;00m\u001b[38;5;124m.csv\u001b[39m\u001b[38;5;124m\"\u001b[39m, index\u001b[38;5;241m=\u001b[39m\u001b[38;5;28;01mFalse\u001b[39;00m)\n\u001b[0;32m     14\u001b[0m \u001b[38;5;28mprint\u001b[39m(\u001b[38;5;124mf\u001b[39m\u001b[38;5;124m\"\u001b[39m\u001b[38;5;124mPrice data for node \u001b[39m\u001b[38;5;132;01m{\u001b[39;00mnode\u001b[38;5;132;01m}\u001b[39;00m\u001b[38;5;124m saved to Graphs/datasets/price_data_\u001b[39m\u001b[38;5;132;01m{\u001b[39;00mnode\u001b[38;5;132;01m}\u001b[39;00m\u001b[38;5;124m.\u001b[39m\u001b[38;5;124m\"\u001b[39m)\n",
      "\u001b[1;31mNameError\u001b[0m: name 'type_id' is not defined"
     ]
    }
   ],
   "source": [
    "for node, attrs in graph.nodes(data=True):\n",
    "    region_id = attrs.get('region_ID', 'No region_id assigned')\n",
    "    print(f\"Node {node} has region_ID: {region_id}.\")\n",
    "    # check if \"Graphs/datasets/price_data_{node}.csv\" exists:\n",
    "    if os.path.exists(f\"Graphs/datasets/Multifrequency_L/timeseries/price_data{node}.csv\"):\n",
    "        print(f\"Price data for node {node} already exists.\")\n",
    "    else:\n",
    "        \n",
    "        print(f'Data for {node} does not exist, fetching data from DB...')\n",
    "        price_data = market_history_query.get_market_history(type_id=type_id, table_name='market_history', region_id=region_id, start_date=start_date, end_date=end_date, config=config)\n",
    "\n",
    "        price_data.to_csv(f\"Graphs/datasets/price_data_{node}.csv\", index=False)\n",
    "\n",
    "    print(f\"Price data for node {node} saved to Graphs/datasets/price_data_{node}.\")"
   ]
  },
  {
   "cell_type": "code",
   "execution_count": 28,
   "metadata": {},
   "outputs": [
    {
     "name": "stdout",
     "output_type": "stream",
     "text": [
      "Node Metropolis has region_ID: 10000042.\n",
      "Price data for node Metropolis exists, loading data...\n",
      "Price data for node Metropolis loaded from Graphs/datasets/price_data_Metropolis.\n",
      "Node Tash-Murkon has region_ID: 10000020.\n",
      "Price data for node Tash-Murkon exists, loading data...\n",
      "Price data for node Tash-Murkon loaded from Graphs/datasets/price_data_Tash-Murkon.\n",
      "Node TheForge has region_ID: 10000002.\n",
      "Price data for node TheForge exists, loading data...\n",
      "Price data for node TheForge loaded from Graphs/datasets/price_data_TheForge.\n",
      "Node Heimatar has region_ID: 10000030.\n",
      "Price data for node Heimatar exists, loading data...\n",
      "Price data for node Heimatar loaded from Graphs/datasets/price_data_Heimatar.\n",
      "Node Lonetrek has region_ID: 10000016.\n",
      "Price data for node Lonetrek exists, loading data...\n",
      "Price data for node Lonetrek loaded from Graphs/datasets/price_data_Lonetrek.\n",
      "Node SinqLaison has region_ID: 10000032.\n",
      "Price data for node SinqLaison exists, loading data...\n",
      "Price data for node SinqLaison loaded from Graphs/datasets/price_data_SinqLaison.\n",
      "Node Domain has region_ID: 10000043.\n",
      "Price data for node Domain exists, loading data...\n",
      "Price data for node Domain loaded from Graphs/datasets/price_data_Domain.\n"
     ]
    }
   ],
   "source": []
  }
 ],
 "metadata": {
  "kernelspec": {
   "display_name": "eve_trading",
   "language": "python",
   "name": "python3"
  },
  "language_info": {
   "codemirror_mode": {
    "name": "ipython",
    "version": 3
   },
   "file_extension": ".py",
   "mimetype": "text/x-python",
   "name": "python",
   "nbconvert_exporter": "python",
   "pygments_lexer": "ipython3",
   "version": "3.8.19"
  }
 },
 "nbformat": 4,
 "nbformat_minor": 2
}
