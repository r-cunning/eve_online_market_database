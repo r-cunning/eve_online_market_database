{
 "cells": [
  {
   "cell_type": "code",
   "execution_count": 8,
   "metadata": {},
   "outputs": [],
   "source": [
    "import pandas as pd\n",
    "import psycopg2\n",
    "from psycopg2 import sql\n",
    "import xlrd\n",
    "import config\n",
    "from tables.static_data import query\n",
    "from tables.market_history import query as market_history_query\n",
    "from psycopg2 import sql\n",
    "import config"
   ]
  },
  {
   "cell_type": "code",
   "execution_count": 1,
   "metadata": {},
   "outputs": [],
   "source": [
    "import networkx as nx\n",
    "# Load the GraphML file\n",
    "G = nx.read_graphml(\"region_hubs_graph.graphml\")"
   ]
  },
  {
   "cell_type": "code",
   "execution_count": 2,
   "metadata": {},
   "outputs": [
    {
     "name": "stdout",
     "output_type": "stream",
     "text": [
      "TheForge {'region_ID': 10000002}\n",
      "SinqLaison {'region_ID': 10000032}\n",
      "Domain {'region_ID': 10000043}\n",
      "Genesis {'region_ID': 10000067}\n",
      "Aridia {'region_ID': 10000054}\n",
      "Fountain {'region_ID': 10000058}\n",
      "Metropolis {'region_ID': 10000042}\n",
      "Heimatar {'region_ID': 10000030}\n",
      "Lonetrek {'region_ID': 10000016}\n",
      "Tash-Murkon {'region_ID': 10000020}\n",
      "Kor-Azor {'region_ID': 10000065}\n",
      "Devoid {'region_ID': 10000036}\n",
      "TheCitadel {'region_ID': 10000033}\n",
      "CloudRing {'region_ID': 10000051}\n",
      "PureBlind {'region_ID': 10000023}\n",
      "Khanid {'region_ID': 10000049}\n",
      "Kador {'region_ID': 10000052}\n"
     ]
    }
   ],
   "source": [
    "for node in G.nodes:\n",
    "    print(node, G.nodes[node])\n",
    "# print(\"Loaded node attributes for 'TheForge':\", G.nodes['TheForge'])"
   ]
  },
  {
   "cell_type": "code",
   "execution_count": 6,
   "metadata": {},
   "outputs": [
    {
     "name": "stdout",
     "output_type": "stream",
     "text": [
      "     region_id         region_name  faction_id  nebula\n",
      "0     10000001             Derelik      500007   11799\n",
      "1     10000002           The Forge      500001   11806\n",
      "2     10000003  Vale of the Silent           0   11814\n",
      "3     10000004              UUA-F4           0   11817\n",
      "4     10000005             Detorid           0   11849\n",
      "..         ...                 ...         ...     ...\n",
      "108   14000001               VR-01           0   11821\n",
      "109   14000002               VR-02           0   11821\n",
      "110   14000003               VR-03           0   11821\n",
      "111   14000004               VR-04           0   11821\n",
      "112   14000005               VR-05           0   11821\n",
      "\n",
      "[113 rows x 4 columns]\n"
     ]
    }
   ],
   "source": [
    "region_ids = query.get_static_data(config=config, table_name=\"map_regions\")\n",
    "print(region_ids)"
   ]
  },
  {
   "cell_type": "code",
   "execution_count": 7,
   "metadata": {},
   "outputs": [
    {
     "data": {
      "text/plain": [
       "17"
      ]
     },
     "execution_count": 7,
     "metadata": {},
     "output_type": "execute_result"
    }
   ],
   "source": [
    "len(G)"
   ]
  },
  {
   "cell_type": "code",
   "execution_count": 4,
   "metadata": {},
   "outputs": [],
   "source": [
    "start_date = \"2020-01-01\"\n",
    "end_date = \"2023-12-31\""
   ]
  },
  {
   "cell_type": "code",
   "execution_count": 9,
   "metadata": {},
   "outputs": [],
   "source": [
    "from tables.faction_warfare_stats_history import query as fw_stats_query\n",
    "killmail_data = fw_stats_query.get_FW_history(config=config, table_name='faction_warfare_stats_history',start_date=start_date, end_date=end_date)"
   ]
  },
  {
   "cell_type": "code",
   "execution_count": 6,
   "metadata": {},
   "outputs": [],
   "source": [
    "import os\n",
    "import pickle\n",
    "# Ensure the directory exists\n",
    "os.makedirs('Graphs/datasets', exist_ok=True)"
   ]
  },
  {
   "cell_type": "markdown",
   "metadata": {},
   "source": [
    "### TODO:\n",
    "\n",
    "For date range - find most destroyed ship type ids\n"
   ]
  },
  {
   "cell_type": "code",
   "execution_count": null,
   "metadata": {},
   "outputs": [],
   "source": [
    "# use psycog2 to check for the 10 most destroyed ships in "
   ]
  },
  {
   "cell_type": "code",
   "execution_count": 9,
   "metadata": {},
   "outputs": [
    {
     "name": "stdout",
     "output_type": "stream",
     "text": [
      "Node TheForge has region_ID: 10000002.\n",
      "Price data for node TheForge already exists.\n",
      "Price data for node TheForge saved to Graphs/datasets/price_data_TheForge.\n",
      "Node SinqLaison has region_ID: 10000032.\n",
      "Price data for node SinqLaison already exists.\n",
      "Price data for node SinqLaison saved to Graphs/datasets/price_data_SinqLaison.\n",
      "Node Domain has region_ID: 10000043.\n",
      "Price data for node Domain already exists.\n",
      "Price data for node Domain saved to Graphs/datasets/price_data_Domain.\n",
      "Node Genesis has region_ID: 10000067.\n",
      "Price data for node Genesis already exists.\n",
      "Price data for node Genesis saved to Graphs/datasets/price_data_Genesis.\n",
      "Node Aridia has region_ID: 10000054.\n",
      "Data for Aridia does not exist, fetching data from DB...\n",
      "Price data for node Aridia saved to Graphs/datasets/price_data_Aridia.\n",
      "Node Fountain has region_ID: 10000058.\n",
      "Data for Fountain does not exist, fetching data from DB...\n",
      "Price data for node Fountain saved to Graphs/datasets/price_data_Fountain.\n",
      "Node Metropolis has region_ID: 10000042.\n",
      "Data for Metropolis does not exist, fetching data from DB...\n",
      "Price data for node Metropolis saved to Graphs/datasets/price_data_Metropolis.\n",
      "Node Heimatar has region_ID: 10000030.\n",
      "Data for Heimatar does not exist, fetching data from DB...\n",
      "Price data for node Heimatar saved to Graphs/datasets/price_data_Heimatar.\n",
      "Node Lonetrek has region_ID: 10000016.\n",
      "Data for Lonetrek does not exist, fetching data from DB...\n",
      "Price data for node Lonetrek saved to Graphs/datasets/price_data_Lonetrek.\n",
      "Node Tash-Murkon has region_ID: 10000020.\n",
      "Data for Tash-Murkon does not exist, fetching data from DB...\n",
      "Price data for node Tash-Murkon saved to Graphs/datasets/price_data_Tash-Murkon.\n",
      "Node Kor-Azor has region_ID: 10000065.\n",
      "Data for Kor-Azor does not exist, fetching data from DB...\n",
      "Price data for node Kor-Azor saved to Graphs/datasets/price_data_Kor-Azor.\n",
      "Node Devoid has region_ID: 10000036.\n",
      "Data for Devoid does not exist, fetching data from DB...\n",
      "Price data for node Devoid saved to Graphs/datasets/price_data_Devoid.\n",
      "Node TheCitadel has region_ID: 10000033.\n",
      "Data for TheCitadel does not exist, fetching data from DB...\n",
      "Price data for node TheCitadel saved to Graphs/datasets/price_data_TheCitadel.\n",
      "Node CloudRing has region_ID: 10000051.\n",
      "Data for CloudRing does not exist, fetching data from DB...\n",
      "Price data for node CloudRing saved to Graphs/datasets/price_data_CloudRing.\n",
      "Node PureBlind has region_ID: 10000023.\n",
      "Data for PureBlind does not exist, fetching data from DB...\n",
      "Price data for node PureBlind saved to Graphs/datasets/price_data_PureBlind.\n",
      "Node Khanid has region_ID: 10000049.\n",
      "Data for Khanid does not exist, fetching data from DB...\n",
      "Price data for node Khanid saved to Graphs/datasets/price_data_Khanid.\n",
      "Node Kador has region_ID: 10000052.\n",
      "Data for Kador does not exist, fetching data from DB...\n",
      "Price data for node Kador saved to Graphs/datasets/price_data_Kador.\n"
     ]
    }
   ],
   "source": [
    "for node, attrs in G.nodes(data=True):\n",
    "    region_id = attrs.get('region_ID', 'No region_id assigned')\n",
    "    print(f\"Node {node} has region_ID: {region_id}.\")\n",
    "    # check if \"Graphs/datasets/price_data_{node}.csv\" exists:\n",
    "    if os.path.exists(f\"Graphs/datasets/price_data_{node}.csv\"):\n",
    "        print(f\"Price data for node {node} already exists.\")\n",
    "    else:\n",
    "        \n",
    "        print(f'Data for {node} does not exist, fetching data from DB...')\n",
    "        price_data = market_history_query.get_market_history(type_id=33151, table_name='market_history', region_id=region_id, start_date=start_date, end_date=end_date, config=config)\n",
    "\n",
    "        price_data.to_csv(f\"Graphs/datasets/price_data_{node}.csv\", index=False)\n",
    "\n",
    "    print(f\"Price data for node {node} saved to Graphs/datasets/price_data_{node}.\")"
   ]
  },
  {
   "cell_type": "code",
   "execution_count": 9,
   "metadata": {},
   "outputs": [],
   "source": [
    "# Federation Navy Comet - typeID 17841"
   ]
  },
  {
   "cell_type": "code",
   "execution_count": 11,
   "metadata": {},
   "outputs": [
    {
     "name": "stdout",
     "output_type": "stream",
     "text": [
      "         date  faction_id  pilots  systems_controlled  kills_last_week  \\\n",
      "0  2022-12-16      500001   50868                  58             2271   \n",
      "1  2022-12-16      500002   32015                  38             2488   \n",
      "2  2022-12-16      500003   29173                  32             1939   \n",
      "3  2022-12-16      500004   42923                  32             3308   \n",
      "4  2022-12-17      500001   50845                  58             2166   \n",
      "\n",
      "   kills_total  kills_yesterday  victory_points_last_week  \\\n",
      "0       947123              301                    707663   \n",
      "1       766125              155                    584271   \n",
      "2       806157              129                    685060   \n",
      "3      1127373              349                    787961   \n",
      "4       947361              238                    697840   \n",
      "\n",
      "   victory_points_total  victory_points_yesterday  \n",
      "0              83540357                     99356  \n",
      "1              52833706                     90430  \n",
      "2              52862703                     65548  \n",
      "3              82145721                    103247  \n",
      "4              83631648                     91291  \n"
     ]
    }
   ],
   "source": [
    "print(killmail_data.head())"
   ]
  },
  {
   "cell_type": "code",
   "execution_count": null,
   "metadata": {},
   "outputs": [],
   "source": []
  }
 ],
 "metadata": {
  "kernelspec": {
   "display_name": "torch_geometric",
   "language": "python",
   "name": "python3"
  },
  "language_info": {
   "codemirror_mode": {
    "name": "ipython",
    "version": 3
   },
   "file_extension": ".py",
   "mimetype": "text/x-python",
   "name": "python",
   "nbconvert_exporter": "python",
   "pygments_lexer": "ipython3",
   "version": "3.8.19"
  }
 },
 "nbformat": 4,
 "nbformat_minor": 2
}
